{
  "nbformat": 4,
  "nbformat_minor": 0,
  "metadata": {
    "colab": {
      "name": "comparison_of_dnn.ipynb",
      "private_outputs": true,
      "provenance": [],
      "collapsed_sections": [
        "pIYEQNKHye8Z",
        "_4eB6FobgBU2",
        "MWwHOS22zvT3",
        "KqMu4vmZ01zu",
        "NP89dlXuYpa3"
      ],
      "authorship_tag": "ABX9TyNMA8yZjDnexkY29AjLbtWM",
      "include_colab_link": true
    },
    "kernelspec": {
      "name": "python3",
      "display_name": "Python 3"
    },
    "language_info": {
      "name": "python"
    }
  },
  "cells": [
    {
      "cell_type": "markdown",
      "metadata": {
        "id": "view-in-github",
        "colab_type": "text"
      },
      "source": [
        "<a href=\"https://colab.research.google.com/github/ksk0629/comparison_of_dnn/blob/develop/comparison_of_dnn.ipynb\" target=\"_parent\"><img src=\"https://colab.research.google.com/assets/colab-badge.svg\" alt=\"Open In Colab\"/></a>"
      ]
    },
    {
      "cell_type": "markdown",
      "source": [
        "# Comparison of DNN"
      ],
      "metadata": {
        "id": "zU1EdfzkwSup"
      }
    },
    {
      "cell_type": "markdown",
      "source": [
        "## Preparation"
      ],
      "metadata": {
        "id": "pIYEQNKHye8Z"
      }
    },
    {
      "cell_type": "code",
      "source": [
        "import os\n",
        "from google.colab import drive\n",
        "import pickle"
      ],
      "metadata": {
        "id": "V0KAPjRBxW9h"
      },
      "execution_count": null,
      "outputs": []
    },
    {
      "cell_type": "code",
      "source": [
        "# Mount my google drive\n",
        "drive_path = \"/content/gdrive\"\n",
        "drive.mount(drive_path)\n",
        "\n",
        "# Prepare environment\n",
        "!pip install mlflow\n",
        "!pip install pyngrok\n",
        "!pip install PyYAML==5.4  # reference: https://github.com/ultralytics/yolov5/issues/414\n",
        "\n",
        "from pyngrok import ngrok\n",
        "import yaml\n",
        "\n",
        "# Load general config\n",
        "config_path = os.path.join(drive_path, \"MyDrive\", \"config\", \"general_config.yaml\")\n",
        "with open(config_path, 'r') as yml:\n",
        "  config = yaml.safe_load(yml)\n",
        "\n",
        "config_github = config[\"github\"]\n",
        "config_ngrok = config[\"ngrok\"]\n",
        "\n",
        "# Set git config\n",
        "!git config --global user.email {config_github[\"email\"]}\n",
        "!git config --global user.name {config_github[\"username\"]}\n",
        "\n",
        "# Clone the repository\n",
        "repository_name = \"comparison_of_dnn\"\n",
        "git_repository = f\"https://github.com/{config_github['username']}/\" + repository_name + \".git\"\n",
        "repository_path = \"/content/\" + repository_name\n",
        "if not os.path.exists(repository_path):\n",
        "  !git clone {git_repository}\n",
        "\n",
        "# Change directory to the cloned directory\n",
        "%cd {repository_name}"
      ],
      "metadata": {
        "id": "HUCmSo3VwfBZ"
      },
      "execution_count": null,
      "outputs": []
    },
    {
      "cell_type": "code",
      "source": [
        "# Checkout\n",
        "branch_name = \"develop\"\n",
        "!git checkout {branch_name}"
      ],
      "metadata": {
        "id": "UOSFUYbjXF8i"
      },
      "execution_count": null,
      "outputs": []
    },
    {
      "cell_type": "code",
      "source": [
        "# Pull\n",
        "!git pull"
      ],
      "metadata": {
        "id": "57wCeUGhXGuY"
      },
      "execution_count": null,
      "outputs": []
    },
    {
      "cell_type": "markdown",
      "source": [
        "## California dataset\n",
        "- `sklearn.datasets.fetch_california_housing()`: regression problem"
      ],
      "metadata": {
        "id": "_4eB6FobgBU2"
      }
    },
    {
      "cell_type": "markdown",
      "source": [
        "### Checking dataset"
      ],
      "metadata": {
        "id": "MWwHOS22zvT3"
      }
    },
    {
      "cell_type": "code",
      "source": [
        "import sys\n",
        "sys.path.append(\"./src\")\n",
        "\n",
        "import src.utils"
      ],
      "metadata": {
        "id": "K4BNSe5OFrK6"
      },
      "execution_count": null,
      "outputs": []
    },
    {
      "cell_type": "code",
      "source": [
        "# Load dataset\n",
        "callifornia_df = src.utils.load_california_housing()\n",
        "callifornia_df.info()"
      ],
      "metadata": {
        "id": "PoER4JeEhi4I"
      },
      "execution_count": null,
      "outputs": []
    },
    {
      "cell_type": "code",
      "source": [
        "# Show statistics without count\n",
        "callifornia_df.describe().drop([\"count\"])"
      ],
      "metadata": {
        "id": "Y9xkHPfkqQYa"
      },
      "execution_count": null,
      "outputs": []
    },
    {
      "cell_type": "code",
      "source": [
        "california_train_df, california_eval_df, california_test_df = src.utils.load_splitting_california_dataset_with_eval()\n",
        "california_eval_df"
      ],
      "metadata": {
        "id": "hp5W16L07aHP"
      },
      "execution_count": null,
      "outputs": []
    },
    {
      "cell_type": "markdown",
      "source": [
        "### Bulding the model"
      ],
      "metadata": {
        "id": "KqMu4vmZ01zu"
      }
    },
    {
      "cell_type": "code",
      "source": [
        "import matplotlib.pyplot as plt\n",
        "import yaml\n",
        "\n",
        "import src.dnn"
      ],
      "metadata": {
        "id": "3b9fL5QXyKle"
      },
      "execution_count": null,
      "outputs": []
    },
    {
      "cell_type": "code",
      "source": [
        "config_yaml_path = \"./config_california.yaml\"\n",
        "\n",
        "# Load the config and show the model summary\n",
        "with open(config_yaml_path, \"r\") as yaml_f:\n",
        "  config = yaml.safe_load(yaml_f)\n",
        "src.dnn.get_california_dnn(**config[\"dnn\"]).summary()\n",
        "\n",
        "model, history = src.dnn.train_california_dnn_with_mlflow(config_yaml_path)"
      ],
      "metadata": {
        "id": "Om4SQGcl1qpT"
      },
      "execution_count": null,
      "outputs": []
    },
    {
      "cell_type": "code",
      "source": [
        "model.predict(x=california_test_df.drop([\"MedHouseVal\"], axis=1))"
      ],
      "metadata": {
        "id": "qwT8VJPKZn3o"
      },
      "execution_count": null,
      "outputs": []
    },
    {
      "cell_type": "code",
      "source": [
        "evaluation_loss = model.evaluate(x=california_test_df.drop([\"MedHouseVal\"], axis=1), y=california_test_df[\"MedHouseVal\"])\n",
        "evaluation_loss_str = f\"0 {evaluation_loss} 0\"\n",
        "\n",
        "run_id = \"6d683f2ff7c04fbe8ba8f103c3b14149\"\n",
        "run_dir_name = f\"/content/comparison_of_dnn/mlruns/1/{run_id}\"\n",
        "metric_dir_name = f\"{run_dir_name}/metrics\"\n",
        "\n",
        "if not os.path.exists(f\"{metric_dir_name}/test_loss\"):\n",
        "  with open(f\"{run_dir_name}/meta.yaml\", \"r\")  as f:\n",
        "    lines = f.readlines()\n",
        "  \n",
        "  # Add entry_point_name\n",
        "  lines[2] = \"entry_point_name: 'src.dnn.train_california_dnn_with_mlflow'\\n\"\n",
        "  with open(f\"{run_dir_name}/meta.yaml\", \"w\")  as f:\n",
        "    f.writelines(lines)\n",
        "\n",
        "  # Add test_loss\n",
        "  with open(f\"{metric_dir_name}/test_loss\", \"w\") as f:\n",
        "    f.write(evaluation_loss_str)\n",
        "\n",
        "  # Add git commit\n",
        "  with open(f\"{run_dir_name}/tags/mlflow.source.git.commit\", \"w\") as f:\n",
        "    f.writelines([\"b10b482d2b32805276f16679293c4426a23302fb\"])\n",
        "\n",
        "  fig = plt.figure(dpi=150)\n",
        "\n",
        "  # length = len(california_test_df)\n",
        "  length = 500\n",
        "\n",
        "  plt.plot(range(length), california_test_df[\"MedHouseVal\"][:length], color=\"red\")\n",
        "  plt.plot(range(length), model.predict(x=california_test_df.drop([\"MedHouseVal\"], axis=1))[:length], color=\"green\")\n",
        "\n",
        "  plt.show()\n",
        "else:\n",
        "  print(\"You've already changed their.\")"
      ],
      "metadata": {
        "id": "O8UNyDlq8xwK"
      },
      "execution_count": null,
      "outputs": []
    },
    {
      "cell_type": "markdown",
      "source": [
        "## MLflow"
      ],
      "metadata": {
        "id": "NP89dlXuYpa3"
      }
    },
    {
      "cell_type": "code",
      "source": [
        "# Run MLflow\n",
        "get_ipython().system_raw(\"mlflow ui --port 5000 &\") # run tracking UI in the background\n",
        "\n",
        "# Terminate open tunnels if exist\n",
        "ngrok.kill()\n",
        "\n",
        "# Setting the authtoken of ngrok\n",
        "ngrok.set_auth_token(config_ngrok[\"token\"])\n",
        "\n",
        "# Open an HTTPs tunnel on port 5000 for http://localhost:5000\n",
        "ngrok_tunnel = ngrok.connect(addr=\"5000\", proto=\"http\", bind_tls=True)\n",
        "print(\"MLflow Tracking UI:\", ngrok_tunnel.public_url)"
      ],
      "metadata": {
        "id": "FZ5qQSFWwC4A"
      },
      "execution_count": null,
      "outputs": []
    },
    {
      "cell_type": "markdown",
      "source": [
        "## Adding files to the git repository"
      ],
      "metadata": {
        "id": "5qew_WglXHrM"
      }
    },
    {
      "cell_type": "code",
      "source": [
        "add_objects = os.path.join(\"mlruns\", \"1\", \"*\")\n",
        "!git add {add_objects}"
      ],
      "metadata": {
        "id": "D4nAD5bf7w97"
      },
      "execution_count": null,
      "outputs": []
    },
    {
      "cell_type": "code",
      "source": [
        "commit_msg = \"Added new mlruns data\"\n",
        "!git commit -m \"{commit_msg}\""
      ],
      "metadata": {
        "id": "Kg4aTHU57_t4"
      },
      "execution_count": null,
      "outputs": []
    },
    {
      "cell_type": "code",
      "source": [
        "html = f\"https://{config_github['token']}@github.com/{config_github['username']}/{repository_name}.git\"\n",
        "!git remote set-url origin {html}\n",
        "!git push origin {branch_name}"
      ],
      "metadata": {
        "id": "GORZqqgd8ACC"
      },
      "execution_count": null,
      "outputs": []
    },
    {
      "cell_type": "code",
      "source": [
        ""
      ],
      "metadata": {
        "id": "d_2K9IvTS485"
      },
      "execution_count": null,
      "outputs": []
    }
  ]
}