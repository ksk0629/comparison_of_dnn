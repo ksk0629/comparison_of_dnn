{
  "nbformat": 4,
  "nbformat_minor": 0,
  "metadata": {
    "colab": {
      "name": "comparison_of_dnn.ipynb",
      "private_outputs": true,
      "provenance": [],
      "collapsed_sections": [],
      "authorship_tag": "ABX9TyPyUrEC/Ik6q5uoAbKyGl1C",
      "include_colab_link": true
    },
    "kernelspec": {
      "name": "python3",
      "display_name": "Python 3"
    },
    "language_info": {
      "name": "python"
    }
  },
  "cells": [
    {
      "cell_type": "markdown",
      "metadata": {
        "id": "view-in-github",
        "colab_type": "text"
      },
      "source": [
        "<a href=\"https://colab.research.google.com/github/ksk0629/comparison_of_dnn/blob/develop/comparison_of_dnn.ipynb\" target=\"_parent\"><img src=\"https://colab.research.google.com/assets/colab-badge.svg\" alt=\"Open In Colab\"/></a>"
      ]
    },
    {
      "cell_type": "markdown",
      "source": [
        "# Comparison of DNN"
      ],
      "metadata": {
        "id": "zU1EdfzkwSup"
      }
    },
    {
      "cell_type": "markdown",
      "source": [
        "## Preparation"
      ],
      "metadata": {
        "id": "pIYEQNKHye8Z"
      }
    },
    {
      "cell_type": "code",
      "source": [
        "import os\n",
        "from google.colab import drive\n",
        "import pickle"
      ],
      "metadata": {
        "id": "V0KAPjRBxW9h"
      },
      "execution_count": null,
      "outputs": []
    },
    {
      "cell_type": "code",
      "source": [
        "# Mount my google drive\n",
        "drive_path = \"/content/gdrive\"\n",
        "drive.mount(drive_path)\n",
        "\n",
        "# Prepare environment\n",
        "!pip install mlflow\n",
        "!pip install pyngrok\n",
        "!pip install PyYAML==5.4  # reference: https://github.com/ultralytics/yolov5/issues/414\n",
        "\n",
        "from pyngrok import ngrok\n",
        "import yaml\n",
        "\n",
        "# Load general config\n",
        "config_path = os.path.join(drive_path, \"MyDrive\", \"config\", \"general_config.yaml\")\n",
        "with open(config_path, 'r') as yml:\n",
        "  config = yaml.safe_load(yml)\n",
        "\n",
        "config_github = config[\"github\"]\n",
        "config_ngrok = config[\"ngrok\"]\n",
        "\n",
        "# Set git config\n",
        "!git config --global user.email {config_github[\"email\"]}\n",
        "!git config --global user.name {config_github[\"username\"]}\n",
        "\n",
        "# Clone the repository\n",
        "repository_name = \"comparison_of_dnn\"\n",
        "git_repository = f\"https://github.com/{config_github['username']}/\" + repository_name + \".git\"\n",
        "repository_path = \"/content/\" + repository_name\n",
        "if not os.path.exists(repository_path):\n",
        "  !git clone {git_repository}\n",
        "\n",
        "# Change directory to the cloned directory\n",
        "%cd {repository_name}"
      ],
      "metadata": {
        "id": "HUCmSo3VwfBZ"
      },
      "execution_count": null,
      "outputs": []
    },
    {
      "cell_type": "code",
      "source": [
        "# Checkout\n",
        "branch_name = \"develop\"\n",
        "!git checkout {branch_name}"
      ],
      "metadata": {
        "id": "UOSFUYbjXF8i"
      },
      "execution_count": null,
      "outputs": []
    },
    {
      "cell_type": "code",
      "source": [
        "# Pull\n",
        "!git pull"
      ],
      "metadata": {
        "id": "57wCeUGhXGuY"
      },
      "execution_count": null,
      "outputs": []
    },
    {
      "cell_type": "markdown",
      "source": [
        "## California dataset\n",
        "- `sklearn.datasets.fetch_california_housing()`: regression problem"
      ],
      "metadata": {
        "id": "_4eB6FobgBU2"
      }
    },
    {
      "cell_type": "code",
      "source": [
        "california_experiment_id = \"1\""
      ],
      "metadata": {
        "id": "Zh4d3GecSxqN"
      },
      "execution_count": null,
      "outputs": []
    },
    {
      "cell_type": "markdown",
      "source": [
        "### Checking dataset"
      ],
      "metadata": {
        "id": "MWwHOS22zvT3"
      }
    },
    {
      "cell_type": "code",
      "source": [
        "%cd comparison_of_dnn  # for resetting runtime\n",
        "import sys\n",
        "sys.path.append(\"./src\")\n",
        "\n",
        "import src.california_dataset\n",
        "\n",
        "import importlib\n",
        "importlib.reload(src.california_dataset)"
      ],
      "metadata": {
        "id": "K4BNSe5OFrK6"
      },
      "execution_count": null,
      "outputs": []
    },
    {
      "cell_type": "code",
      "source": [
        "# Load dataset\n",
        "california_dataset = src.california_dataset.CaliforniaDataset()\n",
        "callifornia_df = california_dataset.load_dataset()\n",
        "callifornia_df"
      ],
      "metadata": {
        "id": "PoER4JeEhi4I"
      },
      "execution_count": null,
      "outputs": []
    },
    {
      "cell_type": "code",
      "source": [
        "# Show statistics without count\n",
        "callifornia_df.describe().drop([\"count\"])"
      ],
      "metadata": {
        "id": "Y9xkHPfkqQYa"
      },
      "execution_count": null,
      "outputs": []
    },
    {
      "cell_type": "code",
      "source": [
        "california_train_df, california_eval_df, california_test_df = california_dataset.load_splitted_dataset_with_eval()\n",
        "california_eval_df"
      ],
      "metadata": {
        "id": "hp5W16L07aHP"
      },
      "execution_count": null,
      "outputs": []
    },
    {
      "cell_type": "markdown",
      "source": [
        "### Bulding the model"
      ],
      "metadata": {
        "id": "KqMu4vmZ01zu"
      }
    },
    {
      "cell_type": "code",
      "source": [
        "!python ./src/california_dnn.py"
      ],
      "metadata": {
        "id": "xHUhvKo-4PmG"
      },
      "execution_count": null,
      "outputs": []
    },
    {
      "cell_type": "markdown",
      "source": [
        "### Visualization predicted values and true target values"
      ],
      "metadata": {
        "id": "AtPLvvIe_Zmz"
      }
    },
    {
      "cell_type": "code",
      "source": [
        "import keras\n",
        "import matplotlib.pyplot as plt"
      ],
      "metadata": {
        "id": "EmMQ9dKc-tsY"
      },
      "execution_count": null,
      "outputs": []
    },
    {
      "cell_type": "code",
      "source": [
        "run_id = \"a4cf416cf3184acb9bd2fe280682d710\"\n",
        "model_path = f\"/content/comparison_of_dnn/mlruns/{california_experiment_id}/{run_id}/artifacts/model/data/model\"\n",
        "\n",
        "model = keras.models.load_model(model_path)\n",
        "model.summary()"
      ],
      "metadata": {
        "id": "lr7KLDKN-vZI"
      },
      "execution_count": null,
      "outputs": []
    },
    {
      "cell_type": "code",
      "source": [
        "predicted_values = model.predict(x=california_test_df.drop([\"MedHouseVal\"], axis=1))\n",
        "predicted_values"
      ],
      "metadata": {
        "id": "qwT8VJPKZn3o"
      },
      "execution_count": null,
      "outputs": []
    },
    {
      "cell_type": "code",
      "source": [
        "fig = plt.figure(dpi=150)\n",
        "\n",
        "length = len(california_test_df)\n",
        "\n",
        "plt.plot(range(length), california_test_df[\"MedHouseVal\"][:length], color=\"red\")\n",
        "plt.plot(range(length), predicted_values[:length], color=\"green\")\n",
        "\n",
        "plt.show()"
      ],
      "metadata": {
        "id": "O8UNyDlq8xwK"
      },
      "execution_count": null,
      "outputs": []
    },
    {
      "cell_type": "markdown",
      "source": [
        "## Iris dataset\n",
        "- `sklearn.datasets.load_iris()`: three-classification problem"
      ],
      "metadata": {
        "id": "os83qyp1JH_8"
      }
    },
    {
      "cell_type": "code",
      "source": [
        "iris_experiment_id = \"2\""
      ],
      "metadata": {
        "id": "lKtZLnS4S8hv"
      },
      "execution_count": null,
      "outputs": []
    },
    {
      "cell_type": "markdown",
      "source": [
        "### Checking dataset"
      ],
      "metadata": {
        "id": "rTuKDWsYS8lw"
      }
    },
    {
      "cell_type": "code",
      "source": [
        "%cd comparison_of_dnn  # for resetting runtime\n",
        "import sys\n",
        "sys.path.append(\"./src\")\n",
        "\n",
        "import src.iris_dataset\n",
        "\n",
        "import importlib\n",
        "importlib.reload(src.iris_dataset)"
      ],
      "metadata": {
        "id": "Qf8A9R-SJIEm"
      },
      "execution_count": null,
      "outputs": []
    },
    {
      "cell_type": "code",
      "source": [
        "# Load dataset\n",
        "iris_dataset = src.iris_dataset.IrisDataset()\n",
        "iris_df = iris_dataset.load_dataset()\n",
        "iris_df"
      ],
      "metadata": {
        "id": "gl0ybQMpJIJu"
      },
      "execution_count": null,
      "outputs": []
    },
    {
      "cell_type": "code",
      "source": [
        "# Show statistics without count\n",
        "iris_df.describe().drop([\"count\"])"
      ],
      "metadata": {
        "id": "lZLRgUePJISs"
      },
      "execution_count": null,
      "outputs": []
    },
    {
      "cell_type": "code",
      "source": [
        "iris_train_df, iris_eval_df, iris_test_df = iris_dataset.load_splitted_dataset_with_eval()\n",
        "iris_eval_df"
      ],
      "metadata": {
        "id": "03HNSQc7Jck7"
      },
      "execution_count": null,
      "outputs": []
    },
    {
      "cell_type": "code",
      "source": [
        "iris_eval_df.drop([\"target\"], axis=1)"
      ],
      "metadata": {
        "id": "y5enM3V0PcQ2"
      },
      "execution_count": null,
      "outputs": []
    },
    {
      "cell_type": "markdown",
      "source": [
        "### Bulding the model"
      ],
      "metadata": {
        "id": "57XLDfXqJnCH"
      }
    },
    {
      "cell_type": "code",
      "source": [
        "!python ./src/iris_dnn.py"
      ],
      "metadata": {
        "id": "NTC4NzXjJnCd"
      },
      "execution_count": null,
      "outputs": []
    },
    {
      "cell_type": "markdown",
      "source": [
        "### Visualization predicted values and true target values"
      ],
      "metadata": {
        "id": "et9qoBXHJnCe"
      }
    },
    {
      "cell_type": "code",
      "source": [
        "import keras\n",
        "import matplotlib.pyplot as plt\n",
        "import numpy as np"
      ],
      "metadata": {
        "id": "vC1QKyz_JnCe"
      },
      "execution_count": null,
      "outputs": []
    },
    {
      "cell_type": "code",
      "source": [
        "run_id = \"6d7b74f128774697a6e40f65477ac04d\"\n",
        "model_path = f\"/content/comparison_of_dnn/mlruns/{iris_experiment_id}/{run_id}/artifacts/model/data/model\"\n",
        "\n",
        "model = keras.models.load_model(model_path)\n",
        "model.summary()"
      ],
      "metadata": {
        "id": "Noqrkkz9JnCf"
      },
      "execution_count": null,
      "outputs": []
    },
    {
      "cell_type": "code",
      "source": [
        "predicted_values = np.argmax(model.predict(x=iris_test_df.drop([\"target\"], axis=1)), axis=1)\n",
        "predicted_values"
      ],
      "metadata": {
        "id": "8isZxNymJnCf"
      },
      "execution_count": null,
      "outputs": []
    },
    {
      "cell_type": "code",
      "source": [
        "fig = plt.figure(dpi=150)\n",
        "\n",
        "length = len(iris_test_df)\n",
        "\n",
        "plt.scatter(range(length), iris_test_df[\"target\"][:length], color=\"red\")\n",
        "plt.scatter(range(length), predicted_values[:length], color=\"green\", s=10)\n",
        "\n",
        "\n",
        "accuracy = (iris_test_df[\"target\"] == predicted_values).sum() / length\n",
        "print(f\"accuracy: {accuracy}\")\n",
        "\n",
        "plt.show()"
      ],
      "metadata": {
        "id": "5NdxnJngJnCg"
      },
      "execution_count": null,
      "outputs": []
    },
    {
      "cell_type": "markdown",
      "source": [
        "## MLflow"
      ],
      "metadata": {
        "id": "NP89dlXuYpa3"
      }
    },
    {
      "cell_type": "code",
      "source": [
        "# Run MLflow\n",
        "get_ipython().system_raw(\"mlflow ui --port 5000 &\") # run tracking UI in the background\n",
        "\n",
        "# Terminate open tunnels if exist\n",
        "ngrok.kill()\n",
        "\n",
        "# Setting the authtoken of ngrok\n",
        "ngrok.set_auth_token(config_ngrok[\"token\"])\n",
        "\n",
        "# Open an HTTPs tunnel on port 5000 for http://localhost:5000\n",
        "ngrok_tunnel = ngrok.connect(addr=\"5000\", proto=\"http\", bind_tls=True)\n",
        "print(\"MLflow Tracking UI:\", ngrok_tunnel.public_url)"
      ],
      "metadata": {
        "id": "FZ5qQSFWwC4A"
      },
      "execution_count": null,
      "outputs": []
    },
    {
      "cell_type": "markdown",
      "source": [
        "## Adding files to the git repository"
      ],
      "metadata": {
        "id": "5qew_WglXHrM"
      }
    },
    {
      "cell_type": "code",
      "source": [
        "# add_objects = os.path.join(\"mlruns\", \"1\", \"*\")\n",
        "# !git add {add_objects}"
      ],
      "metadata": {
        "id": "D4nAD5bf7w97"
      },
      "execution_count": null,
      "outputs": []
    },
    {
      "cell_type": "code",
      "source": [
        "# commit_msg = \"Added new mlruns data\"\n",
        "# !git commit -m \"{commit_msg}\""
      ],
      "metadata": {
        "id": "Kg4aTHU57_t4"
      },
      "execution_count": null,
      "outputs": []
    },
    {
      "cell_type": "code",
      "source": [
        "# html = f\"https://{config_github['token']}@github.com/{config_github['username']}/{repository_name}.git\"\n",
        "# !git remote set-url origin {html}\n",
        "# !git push origin {branch_name}"
      ],
      "metadata": {
        "id": "GORZqqgd8ACC"
      },
      "execution_count": null,
      "outputs": []
    },
    {
      "cell_type": "code",
      "source": [
        ""
      ],
      "metadata": {
        "id": "d_2K9IvTS485"
      },
      "execution_count": null,
      "outputs": []
    }
  ]
}